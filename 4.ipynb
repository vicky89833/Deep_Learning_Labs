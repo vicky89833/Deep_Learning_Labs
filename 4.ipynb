{
  "cells": [
    {
      "cell_type": "markdown",
      "metadata": {
        "id": "niyoRYHJzxCP"
      },
      "source": [
        "Q. Dense Block: Develop a CNN architecture based on dense blocks, as introduced in the DenseNet model. Train the CNN on the CIFAR100 dataset and conduct a comprehensive evaluation of its classification accuracy, precision, recall,f1score. The network should have at least 3 convolutional blocks. (each block having depthwise convolution followed by pointwise convolution).connection Evaluate the model's performance with and without the dense connection."
      ]
    },
    {
      "cell_type": "markdown",
      "source": [
        "#Import library"
      ],
      "metadata": {
        "id": "lnpQyXmmdlMM"
      }
    },
    {
      "cell_type": "code",
      "execution_count": 1,
      "metadata": {
        "id": "LAwQbyyMzv9m"
      },
      "outputs": [],
      "source": [
        "import torch\n",
        "import torch.nn as nn\n",
        "import torch.nn.functional\n"
      ]
    },
    {
      "cell_type": "code",
      "execution_count": 2,
      "metadata": {
        "id": "aowkFX7R36i1"
      },
      "outputs": [],
      "source": [
        "from torch.utils.data import Dataset\n",
        "from torchvision import datasets\n",
        "from torchvision.transforms import ToTensor\n",
        "import matplotlib.pyplot as plt\n",
        "from torch.utils.data import random_split\n",
        "from torch.utils.data import DataLoader\n",
        "import torch.optim as optim\n",
        "from sklearn.metrics import accuracy_score, precision_score, recall_score, f1_score"
      ]
    },
    {
      "cell_type": "markdown",
      "source": [
        "#Data processing"
      ],
      "metadata": {
        "id": "rlOzlIW6dzm-"
      }
    },
    {
      "cell_type": "code",
      "execution_count": 3,
      "metadata": {
        "colab": {
          "base_uri": "https://localhost:8080/"
        },
        "id": "fr2mguM47IxK",
        "outputId": "76e664fa-58b7-4c55-cd5d-d5adffedfe19"
      },
      "outputs": [
        {
          "output_type": "stream",
          "name": "stdout",
          "text": [
            "Downloading https://www.cs.toronto.edu/~kriz/cifar-100-python.tar.gz to data/cifar-100-python.tar.gz\n"
          ]
        },
        {
          "output_type": "stream",
          "name": "stderr",
          "text": [
            "100%|██████████| 169001437/169001437 [00:02<00:00, 65081880.65it/s] \n"
          ]
        },
        {
          "output_type": "stream",
          "name": "stdout",
          "text": [
            "Extracting data/cifar-100-python.tar.gz to data\n",
            "Files already downloaded and verified\n"
          ]
        }
      ],
      "source": [
        "\n",
        "training_data = datasets.CIFAR100(\n",
        "    root=\"data\",\n",
        "    train=True,\n",
        "    download=True,\n",
        "    transform=ToTensor()\n",
        ")\n",
        "\n",
        "test_data = datasets.CIFAR100(\n",
        "    root=\"data\",\n",
        "    train=False,\n",
        "    download=True,\n",
        "    transform=ToTensor()\n",
        ")"
      ]
    },
    {
      "cell_type": "code",
      "execution_count": 4,
      "metadata": {
        "colab": {
          "base_uri": "https://localhost:8080/"
        },
        "id": "tQ-LTtbF7jYJ",
        "outputId": "054c7290-27d2-464a-f138-5ae5becd163f"
      },
      "outputs": [
        {
          "output_type": "execute_result",
          "data": {
            "text/plain": [
              "Dataset CIFAR100\n",
              "    Number of datapoints: 50000\n",
              "    Root location: data\n",
              "    Split: Train\n",
              "    StandardTransform\n",
              "Transform: ToTensor()"
            ]
          },
          "metadata": {},
          "execution_count": 4
        }
      ],
      "source": [
        "training_data\n"
      ]
    },
    {
      "cell_type": "code",
      "execution_count": 5,
      "metadata": {
        "colab": {
          "base_uri": "https://localhost:8080/",
          "height": 174
        },
        "id": "kbKgppDJ8D5y",
        "outputId": "41b9bc67-2217-4943-a155-24155efabb8d"
      },
      "outputs": [
        {
          "output_type": "execute_result",
          "data": {
            "text/plain": [
              "torchvision.datasets.cifar.CIFAR100"
            ],
            "text/html": [
              "<div style=\"max-width:800px; border: 1px solid var(--colab-border-color);\"><style>\n",
              "      pre.function-repr-contents {\n",
              "        overflow-x: auto;\n",
              "        padding: 8px 12px;\n",
              "        max-height: 500px;\n",
              "      }\n",
              "\n",
              "      pre.function-repr-contents.function-repr-contents-collapsed {\n",
              "        cursor: pointer;\n",
              "        max-height: 100px;\n",
              "      }\n",
              "    </style>\n",
              "    <pre style=\"white-space: initial; background:\n",
              "         var(--colab-secondary-surface-color); padding: 8px 12px;\n",
              "         border-bottom: 1px solid var(--colab-border-color);\"><b>torchvision.datasets.cifar.CIFAR100</b><br/>def __init__(root: str, train: bool=True, transform: Optional[Callable]=None, target_transform: Optional[Callable]=None, download: bool=False) -&gt; None</pre><pre class=\"function-repr-contents function-repr-contents-collapsed\" style=\"\"><a class=\"filepath\" style=\"display:none\" href=\"#\">/usr/local/lib/python3.10/dist-packages/torchvision/datasets/cifar.py</a>`CIFAR100 &lt;https://www.cs.toronto.edu/~kriz/cifar.html&gt;`_ Dataset.\n",
              "\n",
              "This is a subclass of the `CIFAR10` Dataset.</pre>\n",
              "      <script>\n",
              "      if (google.colab.kernel.accessAllowed && google.colab.files && google.colab.files.view) {\n",
              "        for (const element of document.querySelectorAll('.filepath')) {\n",
              "          element.style.display = 'block'\n",
              "          element.onclick = (event) => {\n",
              "            event.preventDefault();\n",
              "            event.stopPropagation();\n",
              "            google.colab.files.view(element.textContent, 146);\n",
              "          };\n",
              "        }\n",
              "      }\n",
              "      for (const element of document.querySelectorAll('.function-repr-contents')) {\n",
              "        element.onclick = (event) => {\n",
              "          event.preventDefault();\n",
              "          event.stopPropagation();\n",
              "          element.classList.toggle('function-repr-contents-collapsed');\n",
              "        };\n",
              "      }\n",
              "      </script>\n",
              "      </div>"
            ]
          },
          "metadata": {},
          "execution_count": 5
        }
      ],
      "source": [
        "type(training_data)"
      ]
    },
    {
      "cell_type": "code",
      "execution_count": 6,
      "metadata": {
        "colab": {
          "base_uri": "https://localhost:8080/"
        },
        "id": "lC6vnyHv8zxU",
        "outputId": "b615d3e6-7adb-4b48-b7ae-ec1bbbe6b132"
      },
      "outputs": [
        {
          "output_type": "execute_result",
          "data": {
            "text/plain": [
              "100"
            ]
          },
          "metadata": {},
          "execution_count": 6
        }
      ],
      "source": [
        "len(training_data.classes)"
      ]
    },
    {
      "cell_type": "markdown",
      "metadata": {
        "id": "o2ZKcsfJ9nMk"
      },
      "source": [
        "Train data split into training and validation"
      ]
    },
    {
      "cell_type": "code",
      "execution_count": 7,
      "metadata": {
        "id": "d2Qv192l9VXr"
      },
      "outputs": [],
      "source": [
        "train_size=int(len(training_data)*0.8)\n",
        "val_size=len(training_data)-train_size"
      ]
    },
    {
      "cell_type": "code",
      "execution_count": 8,
      "metadata": {
        "id": "MRcL001u84hD"
      },
      "outputs": [],
      "source": [
        "train_data,validation_data=random_split(training_data,[train_size,val_size])"
      ]
    },
    {
      "cell_type": "code",
      "execution_count": 9,
      "metadata": {
        "colab": {
          "base_uri": "https://localhost:8080/"
        },
        "id": "05ARQFIR_pTS",
        "outputId": "143015ec-68e8-40a4-e885-bd185a8e24df"
      },
      "outputs": [
        {
          "output_type": "execute_result",
          "data": {
            "text/plain": [
              "<torch.utils.data.dataset.Subset at 0x78f740e4add0>"
            ]
          },
          "metadata": {},
          "execution_count": 9
        }
      ],
      "source": [
        "train_data"
      ]
    },
    {
      "cell_type": "code",
      "execution_count": 10,
      "metadata": {
        "id": "hisJk0u__uLs"
      },
      "outputs": [],
      "source": [
        "#data loading\n",
        "batch_size=32"
      ]
    },
    {
      "cell_type": "code",
      "execution_count": 11,
      "metadata": {
        "id": "-elP7g14AC0n"
      },
      "outputs": [],
      "source": [
        "train_loader=DataLoader(train_data,batch_size,shuffle=True)\n",
        "validaton_loader=DataLoader(validation_data,batch_size)\n",
        "test_loader=DataLoader(test_data,batch_size)"
      ]
    },
    {
      "cell_type": "markdown",
      "source": [],
      "metadata": {
        "id": "_aEj5stbd3oP"
      }
    },
    {
      "cell_type": "markdown",
      "metadata": {
        "id": "DkrJUbPVBlRl"
      },
      "source": [
        "#Dense model building"
      ]
    },
    {
      "cell_type": "code",
      "execution_count": 12,
      "metadata": {
        "id": "PEis_yS6dOAi"
      },
      "outputs": [],
      "source": [
        "class DenseNet(nn.Module):\n",
        "    def __init__(self, in_channels, num_layers):\n",
        "        super().__init__()\n",
        "        self.layers = nn.ModuleList()\n",
        "        for i in range(num_layers):\n",
        "            self.layers.append(self._make_conv(in_channels + i*100))##concatenate layes\n",
        "\n",
        "    def _make_conv(self, in_channels):#helper function to convolute\n",
        "\n",
        "        # return nn.Conv2d(in_channels, 32, kernel_size=3, padding=1)\n",
        "        return (nn.Sequential(\n",
        "            nn.Conv2d(in_channels, in_channels, kernel_size=3, padding =1, groups=in_channels),\n",
        "            nn.Conv2d(in_channels, 100, kernel_size=1),\n",
        "            nn.BatchNorm2d(num_features= 100),\n",
        "        ))\n",
        "\n",
        "    def forward(self, x):\n",
        "        output = x\n",
        "        for layer in self.layers:\n",
        "            output = layer(x)\n",
        "            x = torch.cat((output,x), dim = 1)\n",
        "\n",
        "        output = output.reshape(output.shape[0], -1)\n",
        "        return output\n"
      ]
    },
    {
      "cell_type": "code",
      "execution_count": 14,
      "metadata": {
        "id": "OL7qBSSkLtne"
      },
      "outputs": [],
      "source": [
        "# Initialize DenseNet model\n",
        "device = torch.device(\"cuda\" if torch.cuda.is_available() else \"cpu\")\n",
        "model = DenseNet(3, 4).to(device)"
      ]
    },
    {
      "cell_type": "code",
      "execution_count": 15,
      "metadata": {
        "id": "QrUBSMSQLzZy"
      },
      "outputs": [],
      "source": [
        "# Define loss function and optimizer\n",
        "criterion = nn.CrossEntropyLoss()\n",
        "optimizer = optim.Adam(model.parameters(), lr=0.001)"
      ]
    },
    {
      "cell_type": "markdown",
      "source": [
        "#training the model with dense block"
      ],
      "metadata": {
        "id": "uuYQioexd8-i"
      }
    },
    {
      "cell_type": "code",
      "execution_count": 16,
      "metadata": {
        "colab": {
          "base_uri": "https://localhost:8080/"
        },
        "id": "r6TtskIjCkho",
        "outputId": "c9892a98-a63e-4c38-fa44-0b62e7b86b26"
      },
      "outputs": [
        {
          "output_type": "stream",
          "name": "stdout",
          "text": [
            "Epoch [1/10], Loss: 5.0987\n",
            "Validation Loss: 5.0987, Accuracy: 1.380%\n",
            "Epoch [2/10], Loss: 4.6466\n",
            "Validation Loss: 4.6466, Accuracy: 1.940%\n",
            "Epoch [3/10], Loss: 4.6748\n",
            "Validation Loss: 4.6748, Accuracy: 2.070%\n",
            "Epoch [4/10], Loss: 4.6460\n",
            "Validation Loss: 4.6460, Accuracy: 1.840%\n",
            "Epoch [5/10], Loss: 4.6054\n",
            "Validation Loss: 4.6054, Accuracy: 2.190%\n",
            "Epoch [6/10], Loss: 4.6164\n",
            "Validation Loss: 4.6164, Accuracy: 1.840%\n",
            "Epoch [7/10], Loss: 4.6067\n",
            "Validation Loss: 4.6067, Accuracy: 2.030%\n",
            "Epoch [8/10], Loss: 4.5996\n",
            "Validation Loss: 4.5996, Accuracy: 2.200%\n",
            "Epoch [9/10], Loss: 4.6036\n",
            "Validation Loss: 4.6036, Accuracy: 2.140%\n",
            "Epoch [10/10], Loss: 4.5963\n",
            "Validation Loss: 4.5963, Accuracy: 2.480%\n"
          ]
        }
      ],
      "source": [
        "\n",
        "#training layer 1\n",
        "train_losses = []\n",
        "epochs=10\n",
        "for epoch in range(epochs):\n",
        "\n",
        "    total_loss = 0.0\n",
        "\n",
        "    for inputs, labels in train_loader:\n",
        "        inputs = inputs.to(device)\n",
        "        labels = labels.to(device)\n",
        "\n",
        "        optimizer.zero_grad()\n",
        "        outputs = model(inputs)\n",
        "        loss = criterion(outputs.reshape(outputs.shape[0],-1), labels)\n",
        "        loss.backward()\n",
        "        optimizer.step()\n",
        "\n",
        "        total_loss += loss.item()\n",
        "\n",
        "    average_loss = total_loss / len(train_loader)\n",
        "    train_losses.append(average_loss)\n",
        "\n",
        "    model.eval()  # Set the model to evaluation mode\n",
        "    total_loss = 0.0\n",
        "    correct_predictions = 0\n",
        "    total_samples = 0\n",
        "\n",
        "    with torch.no_grad():\n",
        "        for inputs, labels in validaton_loader:\n",
        "            inputs = inputs.to(device) #to use gpu\n",
        "            labels = labels.to(device)\n",
        "            outputs = model(inputs)\n",
        "            loss = criterion(outputs.reshape(outputs.shape[0],-1), labels)#reshape\n",
        "            total_loss += loss.item()\n",
        "\n",
        "            _, predicted = torch.max(outputs, 1)\n",
        "            correct_predictions += (predicted == labels).sum().item()\n",
        "            total_samples += labels.size(0)\n",
        "\n",
        "    average_loss = total_loss / len(validaton_loader)\n",
        "    accuracy = correct_predictions / total_samples\n",
        "\n",
        "\n",
        "    print(f'Epoch [{epoch+1}/{epochs}], Loss: {average_loss:.4f}')\n",
        "    print(f'Validation Loss: {average_loss:.4f}, Accuracy: {accuracy * 100:.3f}%')\n",
        "\n",
        "\n",
        "\n",
        "\n",
        "\n"
      ]
    },
    {
      "cell_type": "code",
      "execution_count": 17,
      "metadata": {
        "id": "T26Dm_StXB8t",
        "colab": {
          "base_uri": "https://localhost:8080/",
          "height": 472
        },
        "outputId": "1913df6b-6133-4843-f331-60326aeb962d"
      },
      "outputs": [
        {
          "output_type": "display_data",
          "data": {
            "text/plain": [
              "<Figure size 640x480 with 1 Axes>"
            ],
            "image/png": "[encoded data removed]"
          },
          "metadata": {}
        }
      ],
      "source": [
        "# Plot training loss\n",
        "plt.plot(train_losses, label='Training Loss')\n",
        "plt.xlabel('Epochs')\n",
        "plt.ylabel('Loss')\n",
        "plt.title('Training Loss')\n",
        "plt.legend()\n",
        "plt.show()"
      ]
    },
    {
      "cell_type": "markdown",
      "source": [
        "Evaluate the model with dense block"
      ],
      "metadata": {
        "id": "UhJA_62geGSo"
      }
    },
    {
      "cell_type": "code",
      "execution_count": 28,
      "metadata": {
        "id": "kYUJ-r3MCwxf",
        "colab": {
          "base_uri": "https://localhost:8080/"
        },
        "outputId": "7fb4b03e-bc72-4bb5-a306-121d49de7e13"
      },
      "outputs": [
        {
          "output_type": "stream",
          "name": "stdout",
          "text": [
            "Test Accuracy: 1.8900%\n"
          ]
        }
      ],
      "source": [
        "model.eval()\n",
        "\n",
        "# Evaluate the model on the test set\n",
        "correct = 0\n",
        "total = 0\n",
        "predictions = []\n",
        "y_true = []\n",
        "with torch.no_grad():\n",
        "    for inputs, labels in test_loader:\n",
        "        inputs=inputs.to(device)\n",
        "        labels=labels.to(device)\n",
        "        y_true.extend(labels.cpu().numpy())  # Assuming labels are tensors, convert to numpy array\n",
        "\n",
        "        outputs = model(inputs)\n",
        "        _, predicted = torch.max(outputs.data, 1)\n",
        "        total += labels.size(0)\n",
        "        correct += (predicted == labels).sum().item()\n",
        "        predictions.extend(predicted.cpu().numpy())  # Append predictions\n",
        "accuracy = correct / total * 100\n",
        "print(f'Test Accuracy: {accuracy:.4f}%')"
      ]
    },
    {
      "cell_type": "markdown",
      "source": [
        "#Normal cnn"
      ],
      "metadata": {
        "id": "PyuXKi_2ePID"
      }
    },
    {
      "cell_type": "code",
      "source": [
        "# normal cnn\n",
        "class cnn(nn.Module):\n",
        "  def __init__(self,in_channels,out_channels):\n",
        "    super().__init__()\n",
        "    self.layer=nn.Sequential(\n",
        "        nn.Conv2d(in_channels=3,out_channels=16,kernel_size=(3,3),padding=(1,1),stride=(1,1)),\n",
        "        nn.LeakyReLU(negative_slope=0.01),\n",
        "        nn.AdaptiveAvgPool2d((10,10))##AdaptiveAvgPool2d change output to 10*10 matrix with variable channel\n",
        "\n",
        "    )\n",
        "  def forward(self,x):\n",
        "    x=self.layer1(x)\n",
        "    x=self.layer2(x)\n",
        "\n",
        "    return x"
      ],
      "metadata": {
        "id": "BIWP7HoV8Ouo"
      },
      "execution_count": 19,
      "outputs": []
    },
    {
      "cell_type": "code",
      "source": [
        "model1=cnn(3,16).to(device)"
      ],
      "metadata": {
        "id": "tNKooAAHBtmI"
      },
      "execution_count": 20,
      "outputs": []
    },
    {
      "cell_type": "code",
      "source": [
        "#training layer 1\n",
        "train_losses = []\n",
        "epochs=10\n",
        "for epoch in range(epochs):\n",
        "\n",
        "    total_loss = 0.0\n",
        "\n",
        "    for inputs, labels in train_loader:\n",
        "        inputs = inputs.to(device)\n",
        "        labels = labels.to(device)\n",
        "\n",
        "        optimizer.zero_grad()\n",
        "        outputs = model(inputs)\n",
        "        loss = criterion(outputs.reshape(outputs.shape[0],-1), labels)\n",
        "        loss.backward()\n",
        "        optimizer.step()\n",
        "\n",
        "        total_loss += loss.item()\n",
        "\n",
        "    average_loss = total_loss / len(train_loader)\n",
        "    train_losses.append(average_loss)\n",
        "\n",
        "    model.eval()  # Set the model to evaluation mode\n",
        "    total_loss = 0.0\n",
        "    correct_predictions = 0\n",
        "    total_samples = 0\n",
        "\n",
        "    with torch.no_grad():\n",
        "        for inputs, labels in validaton_loader:\n",
        "            inputs = inputs.to(device)\n",
        "            labels = labels.to(device)\n",
        "            outputs = model(inputs)\n",
        "            loss = criterion(outputs.reshape(outputs.shape[0],-1), labels)\n",
        "            total_loss += loss.item()\n",
        "\n",
        "            _, predicted = torch.max(outputs, 1)\n",
        "            correct_predictions += (predicted == labels).sum().item()\n",
        "            total_samples += labels.size(0)\n",
        "\n",
        "    average_loss = total_loss / len(validaton_loader)\n",
        "    accuracy = correct_predictions / total_samples\n",
        "\n",
        "\n",
        "    print(f'Epoch [{epoch+1}/{epochs}], Loss: {average_loss:.4f}')\n",
        "    print(f'Validation Loss: {average_loss:.4f}, Accuracy: {accuracy * 100:.3f}%')\n",
        "\n",
        "\n"
      ],
      "metadata": {
        "colab": {
          "base_uri": "https://localhost:8080/"
        },
        "id": "M3BFDGkvB5I-",
        "outputId": "1d6bd226-f73b-4eab-b195-945f22de3c35"
      },
      "execution_count": 21,
      "outputs": [
        {
          "output_type": "stream",
          "name": "stdout",
          "text": [
            "Epoch [1/10], Loss: 4.5940\n",
            "Validation Loss: 4.5940, Accuracy: 2.330%\n",
            "Epoch [2/10], Loss: 4.5883\n",
            "Validation Loss: 4.5883, Accuracy: 2.250%\n",
            "Epoch [3/10], Loss: 4.6029\n",
            "Validation Loss: 4.6029, Accuracy: 2.030%\n",
            "Epoch [4/10], Loss: 4.6162\n",
            "Validation Loss: 4.6162, Accuracy: 2.130%\n",
            "Epoch [5/10], Loss: 4.6112\n",
            "Validation Loss: 4.6112, Accuracy: 2.090%\n",
            "Epoch [6/10], Loss: 4.5873\n",
            "Validation Loss: 4.5873, Accuracy: 2.180%\n",
            "Epoch [7/10], Loss: 4.6061\n",
            "Validation Loss: 4.6061, Accuracy: 1.780%\n",
            "Epoch [8/10], Loss: 4.5975\n",
            "Validation Loss: 4.5975, Accuracy: 2.250%\n",
            "Epoch [9/10], Loss: 4.5836\n",
            "Validation Loss: 4.5836, Accuracy: 2.190%\n",
            "Epoch [10/10], Loss: 4.5850\n",
            "Validation Loss: 4.5850, Accuracy: 1.960%\n"
          ]
        }
      ]
    },
    {
      "cell_type": "code",
      "source": [
        "# Plot training loss\n",
        "plt.plot(train_losses, label='Training Loss')\n",
        "plt.xlabel('Epochs')\n",
        "plt.ylabel('Loss')\n",
        "plt.title('Training Loss')\n",
        "plt.legend()\n",
        "plt.show()"
      ],
      "metadata": {
        "colab": {
          "base_uri": "https://localhost:8080/",
          "height": 472
        },
        "id": "KHq5d4eACynf",
        "outputId": "1e545b69-dd09-4a10-effe-4e5799c3ef01"
      },
      "execution_count": 22,
      "outputs": [
        {
          "output_type": "display_data",
          "data": {
            "text/plain": [
              "<Figure size 640x480 with 1 Axes>"
            ],
            "image/png": "[encoded data removed]"
          },
          "metadata": {}
        }
      ]
    },
    {
      "cell_type": "code",
      "source": [
        "model.eval()\n",
        "\n",
        "# Evaluate the model on the test set\n",
        "correct = 0\n",
        "total = 0\n",
        "predictions1 = []\n",
        "y_true1=[]  #help to get report\n",
        "with torch.no_grad():\n",
        "    for inputs, labels in test_loader:\n",
        "        inputs=inputs.to(device)\n",
        "        labels=labels.to(device)\n",
        "        y_true1.extend(labels.cpu().numpy())  # Assuming labels are tensors, convert to numpy array\n",
        "\n",
        "        outputs = model(inputs)\n",
        "        _, predicted = torch.max(outputs.data, 1)\n",
        "        total += labels.size(0)\n",
        "        correct += (predicted == labels).sum().item()\n",
        "        predictions1.extend(predicted.cpu().numpy())  # Append predictions\n",
        "accuracy = correct / total * 100\n",
        "print(f'Test Accuracy: {accuracy:.4f}%')"
      ],
      "metadata": {
        "colab": {
          "base_uri": "https://localhost:8080/"
        },
        "id": "nN9UJAiGC42B",
        "outputId": "15db94cb-9c03-466d-cb0b-b15014a25906"
      },
      "execution_count": 29,
      "outputs": [
        {
          "output_type": "stream",
          "name": "stdout",
          "text": [
            "Test Accuracy: 1.8900%\n"
          ]
        }
      ]
    },
    {
      "cell_type": "markdown",
      "source": [
        "#comparision"
      ],
      "metadata": {
        "id": "7O2LxzX-iV88"
      }
    },
    {
      "cell_type": "code",
      "source": [
        "from sklearn.metrics import classification_report\n",
        "import numpy as np\n",
        "# Evaluate the models\n",
        "# Convert predictions to numpy arrays\n",
        "y_pred_dense = np.array(predictions)\n",
        "y_pred_no_dense = np.array(predictions1)\n",
        "y_true = np.array(y_true)\n",
        "y_true1 = np.array(y_true1)\n",
        "\n",
        "# print(\"Metrics for DenseNet with dense connections:\")\n",
        "# print(classification_report(y_true,predictions))\n",
        "\n",
        "# print(\"Metrics for DenseNet without dense connections:\")\n",
        "# print(classification_report(y_true1, predictions1))"
      ],
      "metadata": {
        "id": "S_XGiV4EdPfy"
      },
      "execution_count": 31,
      "outputs": []
    },
    {
      "cell_type": "code",
      "source": [
        "#it will classification reports\n",
        "report_dense = classification_report(y_true, predictions, output_dict=True)\n",
        "report_no_dense = classification_report(y_true1,predictions1, output_dict=True)\n",
        "\n",
        "# Extract metrics\n",
        "precision_dense = report_dense['weighted avg']['precision']\n",
        "recall_dense = report_dense['weighted avg']['recall']\n",
        "f1_score_dense = report_dense['weighted avg']['f1-score']\n",
        "\n",
        "precision_no_dense = report_no_dense['weighted avg']['precision']\n",
        "recall_no_dense = report_no_dense['weighted avg']['recall']\n",
        "f1_score_no_dense = report_no_dense['weighted avg']['f1-score']\n",
        "\n",
        "# Print metrics\n",
        "print(\"Metrics for DenseNet with dense connections:\")\n",
        "print(\"Precision:\", precision_dense)\n",
        "print(\"Recall:\", recall_dense)\n",
        "print(\"F1-score:\", f1_score_dense)\n",
        "\n",
        "print(\"\\nMetrics for DenseNet without dense connections:\")\n",
        "print(\"Precision:\", precision_no_dense)\n",
        "print(\"Recall:\", recall_no_dense)\n",
        "print(\"F1-score:\", f1_score_no_dense)"
      ],
      "metadata": {
        "colab": {
          "base_uri": "https://localhost:8080/"
        },
        "id": "NYEdIpmUiLBn",
        "outputId": "58fece53-9e64-4366-a8a8-32b4619c55c5"
      },
      "execution_count": 32,
      "outputs": [
        {
          "output_type": "stream",
          "name": "stdout",
          "text": [
            "Metrics for DenseNet with dense connections:\n",
            "Precision: 0.009760936625769693\n",
            "Recall: 0.0189\n",
            "F1-score: 0.004194917333273332\n",
            "\n",
            "Metrics for DenseNet without dense connections:\n",
            "Precision: 0.009760936625769693\n",
            "Recall: 0.0189\n",
            "F1-score: 0.004194917333273332\n"
          ]
        },
        {
          "output_type": "stream",
          "name": "stderr",
          "text": [
            "/usr/local/lib/python3.10/dist-packages/sklearn/metrics/_classification.py:1344: UndefinedMetricWarning: Precision and F-score are ill-defined and being set to 0.0 in labels with no predicted samples. Use `zero_division` parameter to control this behavior.\n",
            "  _warn_prf(average, modifier, msg_start, len(result))\n",
            "/usr/local/lib/python3.10/dist-packages/sklearn/metrics/_classification.py:1344: UndefinedMetricWarning: Precision and F-score are ill-defined and being set to 0.0 in labels with no predicted samples. Use `zero_division` parameter to control this behavior.\n",
            "  _warn_prf(average, modifier, msg_start, len(result))\n",
            "/usr/local/lib/python3.10/dist-packages/sklearn/metrics/_classification.py:1344: UndefinedMetricWarning: Precision and F-score are ill-defined and being set to 0.0 in labels with no predicted samples. Use `zero_division` parameter to control this behavior.\n",
            "  _warn_prf(average, modifier, msg_start, len(result))\n",
            "/usr/local/lib/python3.10/dist-packages/sklearn/metrics/_classification.py:1344: UndefinedMetricWarning: Precision and F-score are ill-defined and being set to 0.0 in labels with no predicted samples. Use `zero_division` parameter to control this behavior.\n",
            "  _warn_prf(average, modifier, msg_start, len(result))\n",
            "/usr/local/lib/python3.10/dist-packages/sklearn/metrics/_classification.py:1344: UndefinedMetricWarning: Precision and F-score are ill-defined and being set to 0.0 in labels with no predicted samples. Use `zero_division` parameter to control this behavior.\n",
            "  _warn_prf(average, modifier, msg_start, len(result))\n",
            "/usr/local/lib/python3.10/dist-packages/sklearn/metrics/_classification.py:1344: UndefinedMetricWarning: Precision and F-score are ill-defined and being set to 0.0 in labels with no predicted samples. Use `zero_division` parameter to control this behavior.\n",
            "  _warn_prf(average, modifier, msg_start, len(result))\n"
          ]
        }
      ]
    }
  ],
  "metadata": {
    "accelerator": "GPU",
    "colab": {
      "gpuType": "T4",
      "provenance": []
    },
    "kernelspec": {
      "display_name": "Python 3",
      "name": "python3"
    },
    "language_info": {
      "name": "python"
    }
  },
  "nbformat": 4,
  "nbformat_minor": 0
}