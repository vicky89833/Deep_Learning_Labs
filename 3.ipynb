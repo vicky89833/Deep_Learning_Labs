{
  "nbformat": 4,
  "nbformat_minor": 0,
  "metadata": {
    "colab": {
      "provenance": [],
      "gpuType": "T4"
    },
    "kernelspec": {
      "name": "python3",
      "display_name": "Python 3"
    },
    "language_info": {
      "name": "python"
    },
    "accelerator": "GPU"
  },
  "cells": [
    {
      "cell_type": "code",
      "source": [
        "#library and functions\n",
        "import torchvision.transforms as transforms\n",
        "from torchvision.datasets import CIFAR10\n",
        "from torch.utils.data import DataLoader, random_split"
      ],
      "metadata": {
        "id": "28HsWG9l1tuB"
      },
      "execution_count": 49,
      "outputs": []
    },
    {
      "cell_type": "code",
      "execution_count": 50,
      "metadata": {
        "id": "NKApVJlDywC_"
      },
      "outputs": [],
      "source": [
        "import torch\n",
        "import torch.nn as  nn\n",
        "import torch.optim as optim"
      ]
    },
    {
      "cell_type": "code",
      "source": [
        "#transformer and dataset\n",
        "transform = transforms.Compose([\n",
        "    transforms.ToTensor(),\n",
        "])\n",
        "\n",
        "train_dataset = CIFAR10(root='./data', train=True, transform=transform, download=True)\n",
        "test_dataset = CIFAR10(root='./data', train=False, transform=transform, download=True)\n",
        "\n"
      ],
      "metadata": {
        "colab": {
          "base_uri": "https://localhost:8080/"
        },
        "id": "fTiY0hfC15aB",
        "outputId": "d4332a3e-ce7d-425b-8b2f-00259183b65a"
      },
      "execution_count": 51,
      "outputs": [
        {
          "output_type": "stream",
          "name": "stdout",
          "text": [
            "Files already downloaded and verified\n",
            "Files already downloaded and verified\n"
          ]
        }
      ]
    },
    {
      "cell_type": "code",
      "source": [
        "#spliting train dataset into train and validation\n",
        "validation_split = 0.2\n",
        "train_size = int((1 - validation_split) * len(train_dataset))\n",
        "val_size = len(train_dataset) - train_size\n",
        "train_dataset, val_dataset = random_split(train_dataset, [train_size, val_size])\n"
      ],
      "metadata": {
        "id": "6cRllPlhU6wb"
      },
      "execution_count": 52,
      "outputs": []
    },
    {
      "cell_type": "code",
      "source": [
        "train_dataset"
      ],
      "metadata": {
        "colab": {
          "base_uri": "https://localhost:8080/"
        },
        "id": "iR8y4ODsyZRw",
        "outputId": "7a4d2009-b877-4f5f-e91f-45bb4968653c"
      },
      "execution_count": 53,
      "outputs": [
        {
          "output_type": "execute_result",
          "data": {
            "text/plain": [
              "<torch.utils.data.dataset.Subset at 0x7d48dc497b80>"
            ]
          },
          "metadata": {},
          "execution_count": 53
        }
      ]
    },
    {
      "cell_type": "code",
      "source": [
        "import numpy as np\n",
        "import matplotlib.pyplot as plt"
      ],
      "metadata": {
        "id": "oYx3pP1ey9XA"
      },
      "execution_count": 54,
      "outputs": []
    },
    {
      "cell_type": "code",
      "source": [
        "train_dataset[0][0][0] #datate is in tensor"
      ],
      "metadata": {
        "colab": {
          "base_uri": "https://localhost:8080/"
        },
        "id": "RHGMl2QJz8zx",
        "outputId": "046b69b7-0c56-4db4-e601-097f05fb2332"
      },
      "execution_count": 55,
      "outputs": [
        {
          "output_type": "execute_result",
          "data": {
            "text/plain": [
              "tensor([[0.6471, 0.4549, 0.3176,  ..., 0.6588, 0.4745, 0.3216],\n",
              "        [0.3333, 0.4353, 0.2824,  ..., 0.5608, 0.7294, 0.6039],\n",
              "        [0.3725, 0.4824, 0.2745,  ..., 0.2824, 0.4824, 0.5922],\n",
              "        ...,\n",
              "        [0.4980, 0.3608, 0.3843,  ..., 0.3137, 0.5529, 0.4314],\n",
              "        [0.5333, 0.4824, 0.3922,  ..., 0.3725, 0.3961, 0.3333],\n",
              "        [0.5647, 0.5647, 0.4353,  ..., 0.2980, 0.1647, 0.2627]])"
            ]
          },
          "metadata": {},
          "execution_count": 55
        }
      ]
    },
    {
      "cell_type": "code",
      "source": [
        "plt.imshow(train_dataset[0][0][0]) #after transformation image change .it may be image of aeroplane"
      ],
      "metadata": {
        "colab": {
          "base_uri": "https://localhost:8080/",
          "height": 447
        },
        "id": "kw686Vo0zW2i",
        "outputId": "273eb374-8199-445a-fca8-4c4fe7d13a80"
      },
      "execution_count": 56,
      "outputs": [
        {
          "output_type": "execute_result",
          "data": {
            "text/plain": [
              "<matplotlib.image.AxesImage at 0x7d48c92e1b70>"
            ]
          },
          "metadata": {},
          "execution_count": 56
        },
        {
          "output_type": "display_data",
          "data": {
            "text/plain": [
              "<Figure size 640x480 with 1 Axes>"
            ],
            "image/png": "[encoded data removed]"
          },
          "metadata": {}
        }
      ]
    },
    {
      "cell_type": "code",
      "source": [
        "help(train_dataset)"
      ],
      "metadata": {
        "colab": {
          "base_uri": "https://localhost:8080/"
        },
        "id": "ZTWsq-Dm4wSF",
        "outputId": "449b72ff-5938-4f54-bbc0-9ead02cf9a97"
      },
      "execution_count": 57,
      "outputs": [
        {
          "output_type": "stream",
          "name": "stdout",
          "text": [
            "Help on Subset in module torch.utils.data.dataset object:\n",
            "\n",
            "class Subset(Dataset)\n",
            " |  Subset(dataset: torch.utils.data.dataset.Dataset[+T_co], indices: Sequence[int]) -> None\n",
            " |  \n",
            " |  Subset of a dataset at specified indices.\n",
            " |  \n",
            " |  Args:\n",
            " |      dataset (Dataset): The whole Dataset\n",
            " |      indices (sequence): Indices in the whole set selected for subset\n",
            " |  \n",
            " |  Method resolution order:\n",
            " |      Subset\n",
            " |      Dataset\n",
            " |      typing.Generic\n",
            " |      builtins.object\n",
            " |  \n",
            " |  Methods defined here:\n",
            " |  \n",
            " |  __getitem__(self, idx)\n",
            " |  \n",
            " |  __getitems__(self, indices: List[int]) -> List[+T_co]\n",
            " |  \n",
            " |  __init__(self, dataset: torch.utils.data.dataset.Dataset[+T_co], indices: Sequence[int]) -> None\n",
            " |      Initialize self.  See help(type(self)) for accurate signature.\n",
            " |  \n",
            " |  __len__(self)\n",
            " |  \n",
            " |  ----------------------------------------------------------------------\n",
            " |  Data and other attributes defined here:\n",
            " |  \n",
            " |  __annotations__ = {'dataset': torch.utils.data.dataset.Dataset[+T_co],...\n",
            " |  \n",
            " |  __orig_bases__ = (torch.utils.data.dataset.Dataset[+T_co],)\n",
            " |  \n",
            " |  __parameters__ = (+T_co,)\n",
            " |  \n",
            " |  ----------------------------------------------------------------------\n",
            " |  Methods inherited from Dataset:\n",
            " |  \n",
            " |  __add__(self, other: 'Dataset[T_co]') -> 'ConcatDataset[T_co]'\n",
            " |  \n",
            " |  ----------------------------------------------------------------------\n",
            " |  Data descriptors inherited from Dataset:\n",
            " |  \n",
            " |  __dict__\n",
            " |      dictionary for instance variables (if defined)\n",
            " |  \n",
            " |  __weakref__\n",
            " |      list of weak references to the object (if defined)\n",
            " |  \n",
            " |  ----------------------------------------------------------------------\n",
            " |  Class methods inherited from typing.Generic:\n",
            " |  \n",
            " |  __class_getitem__(params) from builtins.type\n",
            " |  \n",
            " |  __init_subclass__(*args, **kwargs) from builtins.type\n",
            " |      This method is called when a class is subclassed.\n",
            " |      \n",
            " |      The default implementation does nothing. It may be\n",
            " |      overridden to extend subclasses.\n",
            "\n"
          ]
        }
      ]
    },
    {
      "cell_type": "code",
      "source": [
        "train_dataset.__len__()"
      ],
      "metadata": {
        "colab": {
          "base_uri": "https://localhost:8080/"
        },
        "id": "gy8auhB8-as6",
        "outputId": "e7d7d68f-9a76-44c7-8a3d-d914e917ef1a"
      },
      "execution_count": 58,
      "outputs": [
        {
          "output_type": "execute_result",
          "data": {
            "text/plain": [
              "40000"
            ]
          },
          "metadata": {},
          "execution_count": 58
        }
      ]
    },
    {
      "cell_type": "code",
      "source": [
        "#loader\n",
        "train_loader = DataLoader(train_dataset, batch_size=64, shuffle=True)\n",
        "val_loader = DataLoader(val_dataset, batch_size=64, shuffle=False)\n",
        "test_loader = DataLoader(test_dataset, batch_size=64, shuffle=False)"
      ],
      "metadata": {
        "id": "8ToVqvKx2IsI"
      },
      "execution_count": 59,
      "outputs": []
    },
    {
      "cell_type": "code",
      "source": [
        "class ConvNN(nn.Module):\n",
        "  def __init__(self,in_channels=3,output_target=10):\n",
        "    super(ConvNN,self).__init__()\n",
        "    #layer 1\n",
        "    self.layer1=nn.Sequential(\n",
        "        nn.Conv2d(in_channels=3,out_channels=16,kernel_size=(3,3),padding=(1,1),stride=(1,1)),\n",
        "        nn.LeakyReLU(negative_slope=0.01),\n",
        "        nn.AdaptiveAvgPool2d((10,10))##AdaptiveAvgPool2d change output to 10*10 matrix with variable channel\n",
        "\n",
        "    )\n",
        "    #layer 2\n",
        "    self.layer2=nn.Sequential(\n",
        "        nn.Conv2d(in_channels=16,out_channels=10,kernel_size=(3,3),stride=(1,1),padding=(1,1)),\n",
        "        nn.LeakyReLU(negative_slope=0.01),\n",
        "        nn.AdaptiveAvgPool2d((1,1))##AdaptiveAvgPool2d change output to 1*1 matrix with variable channel\n",
        "    )\n",
        "\n",
        "\n",
        "  def forward(self,x):\n",
        "    x=self.layer1(x)\n",
        "    x=self.layer2(x)\n",
        "\n",
        "    return x\n",
        "\n",
        "\n"
      ],
      "metadata": {
        "id": "qkH_RNwpzQKY"
      },
      "execution_count": 60,
      "outputs": []
    },
    {
      "cell_type": "code",
      "source": [
        "model=ConvNN()"
      ],
      "metadata": {
        "id": "oWUDoQUC9lqs"
      },
      "execution_count": 61,
      "outputs": []
    },
    {
      "cell_type": "code",
      "source": [
        "#parameter and  optiizer\n",
        "optimizer = optim.Adam(model.parameters(), lr=0.0003)\n",
        "criterion = nn.CrossEntropyLoss()"
      ],
      "metadata": {
        "id": "KOFcMfvd9vv5"
      },
      "execution_count": 62,
      "outputs": []
    },
    {
      "cell_type": "code",
      "source": [
        "#training greedy layer\n",
        "#training layer 1 not 2\n",
        "#freezing layer 2\n",
        "for param in model.layer2.parameters():\n",
        "    param.requires_grad = False"
      ],
      "metadata": {
        "id": "UEkhRVQVAMmx"
      },
      "execution_count": 63,
      "outputs": []
    },
    {
      "cell_type": "code",
      "source": [
        "\n",
        "#training layer 1\n",
        "train_losses = []\n",
        "epochs=20\n",
        "for epoch in range(epochs):\n",
        "\n",
        "    total_loss = 0.0\n",
        "\n",
        "    for inputs, labels in train_loader:\n",
        "        optimizer.zero_grad()\n",
        "        outputs = model(inputs)\n",
        "        loss = criterion(outputs.reshape(outputs.shape[0],-1), labels)#reshape output for loss calculation\n",
        "        loss.backward()\n",
        "        optimizer.step()\n",
        "\n",
        "        total_loss += loss.item()\n",
        "\n",
        "    average_loss = total_loss / len(train_loader)\n",
        "    train_losses.append(average_loss)\n",
        "\n",
        "    model.eval()  # Set the model to evaluation mode\n",
        "    total_loss = 0.0\n",
        "    correct_predictions = 0\n",
        "    total_samples = 0\n",
        "\n",
        "    with torch.no_grad():\n",
        "        for inputs, labels in val_loader:\n",
        "            outputs = model(inputs)\n",
        "            loss = criterion(outputs.reshape(outputs.shape[0],-1), labels)\n",
        "            total_loss += loss.item()\n",
        "\n",
        "            _, predicted = torch.max(outputs, 1)\n",
        "            correct_predictions += (predicted == labels).sum().item()\n",
        "            total_samples += labels.size(0)\n",
        "\n",
        "    average_loss = total_loss / len(val_loader)\n",
        "    accuracy = correct_predictions / total_samples\n",
        "\n",
        "\n",
        "    print(f'Epoch [{epoch+1}/{epochs}], Loss: {average_loss:.4f}')\n",
        "    print(f'Validation Loss: {average_loss:.4f}, Accuracy: {accuracy * 100:.3f}%')\n",
        "\n",
        "\n",
        "\n"
      ],
      "metadata": {
        "colab": {
          "base_uri": "https://localhost:8080/"
        },
        "id": "zaS3EkKp8P74",
        "outputId": "b8b0b3e3-63a2-41b2-8cc2-45f7d4cfb3f7"
      },
      "execution_count": 68,
      "outputs": [
        {
          "output_type": "stream",
          "name": "stdout",
          "text": [
            "Epoch [1/20], Loss: 2.2835\n",
            "Validation Loss: 2.2835, Accuracy: 629.180%\n",
            "Epoch [2/20], Loss: 2.2810\n",
            "Validation Loss: 2.2810, Accuracy: 628.600%\n",
            "Epoch [3/20], Loss: 2.2786\n",
            "Validation Loss: 2.2786, Accuracy: 629.080%\n",
            "Epoch [4/20], Loss: 2.2767\n",
            "Validation Loss: 2.2767, Accuracy: 629.130%\n",
            "Epoch [5/20], Loss: 2.2748\n",
            "Validation Loss: 2.2748, Accuracy: 628.740%\n",
            "Epoch [6/20], Loss: 2.2730\n",
            "Validation Loss: 2.2730, Accuracy: 628.570%\n",
            "Epoch [7/20], Loss: 2.2714\n",
            "Validation Loss: 2.2714, Accuracy: 628.850%\n",
            "Epoch [8/20], Loss: 2.2701\n",
            "Validation Loss: 2.2701, Accuracy: 629.520%\n",
            "Epoch [9/20], Loss: 2.2687\n",
            "Validation Loss: 2.2687, Accuracy: 629.090%\n",
            "Epoch [10/20], Loss: 2.2676\n",
            "Validation Loss: 2.2676, Accuracy: 629.230%\n",
            "Epoch [11/20], Loss: 2.2660\n",
            "Validation Loss: 2.2660, Accuracy: 628.840%\n",
            "Epoch [12/20], Loss: 2.2651\n",
            "Validation Loss: 2.2651, Accuracy: 628.830%\n",
            "Epoch [13/20], Loss: 2.2639\n",
            "Validation Loss: 2.2639, Accuracy: 629.900%\n",
            "Epoch [14/20], Loss: 2.2628\n",
            "Validation Loss: 2.2628, Accuracy: 628.800%\n",
            "Epoch [15/20], Loss: 2.2619\n",
            "Validation Loss: 2.2619, Accuracy: 631.100%\n",
            "Epoch [16/20], Loss: 2.2608\n",
            "Validation Loss: 2.2608, Accuracy: 632.050%\n",
            "Epoch [17/20], Loss: 2.2600\n",
            "Validation Loss: 2.2600, Accuracy: 631.190%\n",
            "Epoch [18/20], Loss: 2.2593\n",
            "Validation Loss: 2.2593, Accuracy: 630.400%\n",
            "Epoch [19/20], Loss: 2.2583\n",
            "Validation Loss: 2.2583, Accuracy: 631.130%\n",
            "Epoch [20/20], Loss: 2.2574\n",
            "Validation Loss: 2.2574, Accuracy: 630.440%\n"
          ]
        }
      ]
    },
    {
      "cell_type": "code",
      "source": [
        "#Unfreezing layer 2\n",
        "for param in model.layer2.parameters():\n",
        "    param.requires_grad = True\n",
        "\n",
        "#freezing layer1\n",
        "\n",
        "for param in model.layer1.parameters():\n",
        "    param.requires_grad = False\n"
      ],
      "metadata": {
        "id": "ZJNyYL7ZJKxo"
      },
      "execution_count": 69,
      "outputs": []
    },
    {
      "cell_type": "code",
      "source": [
        "#plot the train loss with  each epoch\n",
        "plt.plot(train_losses)\n",
        "plt.xlabel('Iterations')\n",
        "plt.ylabel('Training Loss')\n",
        "plt.title('Greedy Layer-Wise Training')\n",
        "plt.show()"
      ],
      "metadata": {
        "colab": {
          "base_uri": "https://localhost:8080/",
          "height": 472
        },
        "id": "7oGnM9BHOhnr",
        "outputId": "fed810ae-e1be-4bf1-d789-70f85253510c"
      },
      "execution_count": 70,
      "outputs": [
        {
          "output_type": "display_data",
          "data": {
            "text/plain": [
              "<Figure size 640x480 with 1 Axes>"
            ],
            "image/png": "[encoded data removed]"
          },
          "metadata": {}
        }
      ]
    },
    {
      "cell_type": "code",
      "source": [
        "\n",
        "#training layer 1\n",
        "train_losses2 = []\n",
        "#took 20 epochs becaouse 10 was ending with more slope\n",
        "epochs=20\n",
        "for epoch in range(epochs):\n",
        "\n",
        "    total_loss = 0.0\n",
        "\n",
        "    for inputs, labels in train_loader:\n",
        "        optimizer.zero_grad()\n",
        "        outputs = model(inputs)\n",
        "        loss = criterion(outputs.reshape(outputs.shape[0],-1), labels)#outputs.reshape(outputs.shape[0],-1 is neccesary to calculate loss\n",
        "        loss.backward()\n",
        "        optimizer.step()\n",
        "\n",
        "        total_loss += loss.item()\n",
        "\n",
        "    average_loss = total_loss / len(train_loader)\n",
        "    train_losses2.append(average_loss)\n",
        "\n",
        "    model.eval()  # Set the model to evaluation mode\n",
        "    total_loss = 0.0\n",
        "    correct_predictions = 0\n",
        "    total_samples = 0\n",
        "##validation after each epoch\n",
        "    with torch.no_grad():\n",
        "        for inputs, labels in val_loader:\n",
        "            outputs = model(inputs)\n",
        "            loss = criterion(outputs.reshape(outputs.shape[0],-1), labels)\n",
        "            total_loss += loss.item()\n",
        "\n",
        "            _, predicted = torch.max(outputs, 1)\n",
        "            correct_predictions += (predicted == labels).sum().item()\n",
        "            total_samples += labels.size(0)\n",
        "\n",
        "    average_loss = total_loss / len(val_loader)\n",
        "    accuracy = correct_predictions / total_samples\n",
        "\n",
        "    print(f'Epoch [{epoch+1}/{epochs}], Loss: {average_loss:.4f}')\n",
        "    print(f'Validation Loss: {average_loss:.4f}, Accuracy: {accuracy * 100:.2f}%')"
      ],
      "metadata": {
        "colab": {
          "base_uri": "https://localhost:8080/"
        },
        "id": "SJCAOMtaJ_Ek",
        "outputId": "c26085d0-d294-444e-f876-7d188d6f7959"
      },
      "execution_count": 71,
      "outputs": [
        {
          "output_type": "stream",
          "name": "stdout",
          "text": [
            "Epoch [1/20], Loss: 2.0529\n",
            "Validation Loss: 2.0529, Accuracy: 650.82%\n",
            "Epoch [2/20], Loss: 2.0203\n",
            "Validation Loss: 2.0203, Accuracy: 649.02%\n",
            "Epoch [3/20], Loss: 1.9955\n",
            "Validation Loss: 1.9955, Accuracy: 652.08%\n",
            "Epoch [4/20], Loss: 1.9791\n",
            "Validation Loss: 1.9791, Accuracy: 654.64%\n",
            "Epoch [5/20], Loss: 1.9668\n",
            "Validation Loss: 1.9668, Accuracy: 657.15%\n",
            "Epoch [6/20], Loss: 1.9595\n",
            "Validation Loss: 1.9595, Accuracy: 651.49%\n",
            "Epoch [7/20], Loss: 1.9497\n",
            "Validation Loss: 1.9497, Accuracy: 654.40%\n",
            "Epoch [8/20], Loss: 1.9387\n",
            "Validation Loss: 1.9387, Accuracy: 658.38%\n",
            "Epoch [9/20], Loss: 1.9326\n",
            "Validation Loss: 1.9326, Accuracy: 659.09%\n",
            "Epoch [10/20], Loss: 1.9260\n",
            "Validation Loss: 1.9260, Accuracy: 655.31%\n",
            "Epoch [11/20], Loss: 1.9246\n",
            "Validation Loss: 1.9246, Accuracy: 652.75%\n",
            "Epoch [12/20], Loss: 1.9176\n",
            "Validation Loss: 1.9176, Accuracy: 657.80%\n",
            "Epoch [13/20], Loss: 1.9171\n",
            "Validation Loss: 1.9171, Accuracy: 652.54%\n",
            "Epoch [14/20], Loss: 1.9047\n",
            "Validation Loss: 1.9047, Accuracy: 656.18%\n",
            "Epoch [15/20], Loss: 1.9020\n",
            "Validation Loss: 1.9020, Accuracy: 659.99%\n",
            "Epoch [16/20], Loss: 1.8975\n",
            "Validation Loss: 1.8975, Accuracy: 664.31%\n",
            "Epoch [17/20], Loss: 1.8932\n",
            "Validation Loss: 1.8932, Accuracy: 656.99%\n",
            "Epoch [18/20], Loss: 1.8908\n",
            "Validation Loss: 1.8908, Accuracy: 661.85%\n",
            "Epoch [19/20], Loss: 1.8843\n",
            "Validation Loss: 1.8843, Accuracy: 660.17%\n",
            "Epoch [20/20], Loss: 1.8792\n",
            "Validation Loss: 1.8792, Accuracy: 658.69%\n"
          ]
        }
      ]
    },
    {
      "cell_type": "code",
      "source": [
        "plt.plot(train_losses2)\n",
        "plt.xlabel('Iterations')\n",
        "plt.ylabel('Training Loss')\n",
        "plt.title('Greedy Layer-Wise Training-')\n",
        "plt.show()"
      ],
      "metadata": {
        "colab": {
          "base_uri": "https://localhost:8080/",
          "height": 472
        },
        "id": "h7UJgO1hOrP9",
        "outputId": "4c0834ca-1d09-4c45-d78d-9d7199c935f1"
      },
      "execution_count": 73,
      "outputs": [
        {
          "output_type": "display_data",
          "data": {
            "text/plain": [
              "<Figure size 640x480 with 1 Axes>"
            ],
            "image/png": "[encoded data removed]"
          },
          "metadata": {}
        }
      ]
    },
    {
      "cell_type": "code",
      "source": [
        "#Unfreezing layer 1\n",
        "for param in model.layer1.parameters():\n",
        "    param.requires_grad = True"
      ],
      "metadata": {
        "id": "q2niyRavwkRm"
      },
      "execution_count": null,
      "outputs": []
    },
    {
      "cell_type": "code",
      "source": [
        "model.eval()\n",
        "\n",
        "# Evaluate the model on the test set\n",
        "correct = 0\n",
        "total = 0\n",
        "\n",
        "with torch.no_grad():\n",
        "    for inputs, labels in test_loader:\n",
        "        outputs = model(inputs)\n",
        "        _, predicted = torch.max(outputs.data, 1)\n",
        "        total += labels.size(0)\n",
        "        correct += (predicted == labels).sum().item()\n",
        "\n",
        "accuracy = correct / total * 100\n",
        "print(f'Test Accuracy: {accuracy:.4f}%')"
      ],
      "metadata": {
        "colab": {
          "base_uri": "https://localhost:8080/"
        },
        "id": "foLa1CO-PGVx",
        "outputId": "d44262aa-0703-42c4-adcd-470ead1a9544"
      },
      "execution_count": 72,
      "outputs": [
        {
          "output_type": "stream",
          "name": "stdout",
          "text": [
            "Test Accuracy: 664.2400%\n"
          ]
        }
      ]
    }
  ]
}